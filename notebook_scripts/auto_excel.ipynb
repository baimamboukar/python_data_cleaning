{
 "cells": [
  {
   "cell_type": "code",
   "execution_count": null,
   "id": "a05d9b9e-8b55-486b-a2c1-42d2494e3e23",
   "metadata": {},
   "outputs": [],
   "source": [
    "data = []\n",
    "to_clean_column_index = 3\n",
    "to_replace = 'helpinghands.cm'\n",
    "replace_with = 'handsinhands.cm'"
   ]
  },
  {
   "cell_type": "code",
   "execution_count": null,
   "id": "ce1942dc-22c2-40c9-b991-c350a9df0f65",
   "metadata": {},
   "outputs": [],
   "source": [
    "import openpyxl\n",
    "wb = openpyxl.load_workbook('../datasource/employee_database.xlsx')"
   ]
  },
  {
   "cell_type": "code",
   "execution_count": null,
   "id": "a5193881-a920-4ea2-b380-20cdcf940732",
   "metadata": {},
   "outputs": [],
   "source": [
    "cols = [\"A\", \"B\", \"C\", \"D\", \"E\", \"F\", \"G\", \"H\", \"I\", \"J\", \"K\", \"L\",\n",
    "                \"M\", \"N\", \"O\", \"P\", \"Q\", \"R\", \"S\", \"T\", \"U\", \"V\", \"W\", \"X\", \"Y\", \"Z\"]\n",
    "# get the index of the cells to clean based on the provided column index\n",
    "index = cols[to_clean_column_index]\n",
    "# set the max row to clean\n",
    "maxrows = 30\n",
    "# get the range of cells to clean\n",
    "col = wb.active[index + \"2:\" + index + str(maxrows)]\n",
    "for cell in wb.active[index + \"2:\" + index + str(maxrows)]:\n",
    "    for data in cell:\n",
    "        email = str(data.value)\n",
    "        if(email.endswith(to_replace)):\n",
    "            data.value = email.replace(\n",
    "                to_replace, replace_with)"
   ]
  },
  {
   "cell_type": "code",
   "execution_count": null,
   "id": "1562190d-e741-4081-84b1-39cf3482a216",
   "metadata": {},
   "outputs": [],
   "source": []
  }
 ],
 "metadata": {
  "kernelspec": {
   "display_name": "Python 3 (ipykernel)",
   "language": "python",
   "name": "python3"
  },
  "language_info": {
   "codemirror_mode": {
    "name": "ipython",
    "version": 3
   },
   "file_extension": ".py",
   "mimetype": "text/x-python",
   "name": "python",
   "nbconvert_exporter": "python",
   "pygments_lexer": "ipython3",
   "version": "3.8.10"
  }
 },
 "nbformat": 4,
 "nbformat_minor": 5
}
