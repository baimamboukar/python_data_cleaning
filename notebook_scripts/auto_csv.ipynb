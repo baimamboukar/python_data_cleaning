{
 "cells": [
  {
   "cell_type": "code",
   "execution_count": 1,
   "id": "d2937e6b-d314-4007-b1cd-b8dcd0057a35",
   "metadata": {},
   "outputs": [],
   "source": [
    "data = []\n",
    "to_clean_column_index = 3\n",
    "to_replace = 'helpinghands.cm'\n",
    "replace_with = 'handsinhands.cm'"
   ]
  },
  {
   "cell_type": "code",
   "execution_count": 4,
   "id": "5a32eb8a-2d08-4340-8f4f-a6a5cc804af6",
   "metadata": {},
   "outputs": [],
   "source": [
    "data = []\n",
    "with open('../datasource/employee_database.csv', 'r') as f:\n",
    "            import csv\n",
    "            reader = csv.reader(f)\n",
    "            data = list(reader)\n"
   ]
  },
  {
   "cell_type": "code",
   "execution_count": 5,
   "id": "c47934d0-4aac-4129-a075-63d7cc484388",
   "metadata": {},
   "outputs": [],
   "source": [
    "for row in data:\n",
    "            if(str(row[to_clean_column_index]).endswith(to_replace)):\n",
    "                row[to_clean_column_index] = row[to_clean_column_index].replace(\n",
    "                    to_replace, replace_with)"
   ]
  },
  {
   "cell_type": "code",
   "execution_count": 8,
   "id": "26b0597e-aa40-4404-80d9-c147c2874c3f",
   "metadata": {},
   "outputs": [],
   "source": [
    "with open('../cleandata/employee_db.csv', 'w') as f:\n",
    "            import csv\n",
    "            writer = csv.writer(f)\n",
    "            writer.writerows(data)"
   ]
  },
  {
   "cell_type": "code",
   "execution_count": null,
   "id": "81cc7019-4dfb-4814-b11a-51e1db8a1159",
   "metadata": {},
   "outputs": [],
   "source": []
  }
 ],
 "metadata": {
  "kernelspec": {
   "display_name": "Python 3 (ipykernel)",
   "language": "python",
   "name": "python3"
  },
  "language_info": {
   "codemirror_mode": {
    "name": "ipython",
    "version": 3
   },
   "file_extension": ".py",
   "mimetype": "text/x-python",
   "name": "python",
   "nbconvert_exporter": "python",
   "pygments_lexer": "ipython3",
   "version": "3.8.10"
  }
 },
 "nbformat": 4,
 "nbformat_minor": 5
}
